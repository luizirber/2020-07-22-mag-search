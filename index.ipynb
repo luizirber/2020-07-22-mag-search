{
 "cells": [
  {
   "cell_type": "markdown",
   "metadata": {},
   "source": [
    "# MinHashing all the things: a quick analysis of MAG search results\n",
    "\n",
    "Companion notebook for https://blog.luizirber.org/2020/07/23/mag-results/\n",
    "\n",
    "## Preparing some metadata"
   ]
  },
  {
   "cell_type": "code",
   "execution_count": 8,
   "metadata": {
    "collapsed": true,
    "jupyter": {
     "outputs_hidden": true
    }
   },
   "outputs": [
    {
     "name": "stdout",
     "output_type": "stream",
     "text": [
      "\u001b[33mBuilding DAG of jobs...\u001b[0m\n",
      "\u001b[33mUsing shell: /usr/bin/bash\u001b[0m\n",
      "\u001b[33mProvided cores: 1 (use --cores to define parallelism)\u001b[0m\n",
      "\u001b[33mRules claiming more threads will be scaled down.\u001b[0m\n",
      "\u001b[33mConda environments: ignored\u001b[0m\n",
      "\u001b[33mJob counts:\n",
      "\tcount\tjobs\n",
      "\t1\tall\n",
      "\t1\tdownload_parks_8k\n",
      "\t1\tdownload_tara_runinfo\n",
      "\t3\u001b[0m\n",
      "\u001b[32m\u001b[0m\n",
      "\u001b[32m[Wed Jul 22 17:20:40 2020]\u001b[0m\n",
      "\u001b[32mrule download_parks_8k:\n",
      "    output: inputs/parks_runinfo.csv\n",
      "    jobid: 2\u001b[0m\n",
      "\u001b[32m\u001b[0m\n",
      "URL transformed to HTTPS due to an HSTS policy\n",
      "--2020-07-22 17:20:40--  https://trace.ncbi.nlm.nih.gov/Traces/sra/sra.cgi?save=efetch&rettype=runinfo&db=sra&term=%22348753%22[bioproject]\n",
      "Resolving trace.ncbi.nlm.nih.gov (trace.ncbi.nlm.nih.gov)... 130.14.29.113, 2607:f220:41e:4290::113\n",
      "Connecting to trace.ncbi.nlm.nih.gov (trace.ncbi.nlm.nih.gov)|130.14.29.113|:443... connected.\n",
      "HTTP request sent, awaiting response... 200 OK\n",
      "Length: unspecified [application/octet-stream]\n",
      "Saving to: ‘inputs/parks_runinfo.csv’\n",
      "\n",
      "inputs/parks_runinf     [                <=> ]   3.92M  63.9KB/s    in 53s     \n",
      "\n",
      "2020-07-22 17:21:33 (76.0 KB/s) - ‘inputs/parks_runinfo.csv’ saved [4112310]\n",
      "\n",
      "\u001b[32m[Wed Jul 22 17:21:33 2020]\u001b[0m\n",
      "\u001b[32mFinished job 2.\u001b[0m\n",
      "\u001b[32m1 of 3 steps (33%) done\u001b[0m\n",
      "\u001b[32m\u001b[0m\n",
      "\u001b[32m[Wed Jul 22 17:21:33 2020]\u001b[0m\n",
      "\u001b[32mrule download_tara_runinfo:\n",
      "    output: inputs/tara_runinfo.csv\n",
      "    jobid: 1\u001b[0m\n",
      "\u001b[32m\u001b[0m\n",
      "URL transformed to HTTPS due to an HSTS policy\n",
      "--2020-07-22 17:21:33--  https://trace.ncbi.nlm.nih.gov/Traces/sra/sra.cgi?save=efetch&rettype=runinfo&db=sra&term=%22173486%22[bioproject]\n",
      "Resolving trace.ncbi.nlm.nih.gov (trace.ncbi.nlm.nih.gov)... 130.14.29.113, 2607:f220:41e:4290::113\n",
      "Connecting to trace.ncbi.nlm.nih.gov (trace.ncbi.nlm.nih.gov)|130.14.29.113|:443... connected.\n",
      "HTTP request sent, awaiting response... 200 OK\n",
      "Length: unspecified [application/octet-stream]\n",
      "Saving to: ‘inputs/tara_runinfo.csv’\n",
      "\n",
      "inputs/tara_runinfo     [               <=>  ]   2.01M  68.7KB/s    in 31s     \n",
      "\n",
      "2020-07-22 17:22:05 (65.8 KB/s) - ‘inputs/tara_runinfo.csv’ saved [2109228]\n",
      "\n",
      "\u001b[32m[Wed Jul 22 17:22:05 2020]\u001b[0m\n",
      "\u001b[32mFinished job 1.\u001b[0m\n",
      "\u001b[32m2 of 3 steps (67%) done\u001b[0m\n",
      "\u001b[32m\u001b[0m\n",
      "\u001b[32m[Wed Jul 22 17:22:05 2020]\u001b[0m\n",
      "\u001b[32mlocalrule all:\n",
      "    input: inputs/tara_runinfo.csv, inputs/parks_runinfo.csv, inputs/tully_mag_stats.xlsx, inputs/tully_mag_taxonomy.xlsx\n",
      "    jobid: 0\u001b[0m\n",
      "\u001b[32m\u001b[0m\n",
      "\u001b[32m[Wed Jul 22 17:22:05 2020]\u001b[0m\n",
      "\u001b[32mFinished job 0.\u001b[0m\n",
      "\u001b[32m3 of 3 steps (100%) done\u001b[0m\n",
      "\u001b[33mComplete log: /home/luizirber/work/sourmash-bio/2020-07-22-mag-search/.snakemake/log/2020-07-22T172040.316852.snakemake.log\u001b[0m\n"
     ]
    }
   ],
   "source": [
    "!snakemake -j1"
   ]
  },
  {
   "cell_type": "markdown",
   "metadata": {},
   "source": [
    "## Loading the data"
   ]
  },
  {
   "cell_type": "code",
   "execution_count": 109,
   "metadata": {},
   "outputs": [
    {
     "name": "stdout",
     "output_type": "stream",
     "text": [
      "                 MAG  metagenome  containment\n",
      "89721     TOBG_NP-28  SRR2103020     0.500144\n",
      "53860     TOBG_NP-42  SRR7168048     0.500169\n",
      "28907    TOBG_EAC-55  SRR7479580     0.500182\n",
      "73862     TOBG_SP-43  SRR7986296     0.500218\n",
      "27250  TOBG_SAT-1356  SRR6713912     0.500264\n",
      "...              ...         ...          ...\n",
      "60804    TOBG_RS-626  ERR4013358     0.988004\n",
      "66828    TOBG_SP-208  SRR5868539     0.989301\n",
      "66807   TOBG_SP-4095  SRR5868539     0.990476\n",
      "6268     TOBG_EAC-96  SRR8159436     0.992379\n",
      "66794    TOBG_NP-110  SRR5868539     0.993755\n",
      "\n",
      "[23644 rows x 3 columns]\n",
      "unique SRA runs:  6398\n"
     ]
    }
   ],
   "source": [
    "import re\n",
    "\n",
    "from IPython.display import HTML\n",
    "import pandas as pd\n",
    "import numpy as np\n",
    "\n",
    "data = pd.read_table(\"results.csv\", sep=\",\", names=[\"MAG\", \"metagenome\", \"containment\"])\n",
    "\n",
    "# These MAGs come from TARA Oceans, and some of them are in Parks 8k, so let's remove them from results\n",
    "tara_metag = pd.read_table(\"inputs/tara_runinfo.csv\", sep=\",\", header=0, usecols=[\"Run\"])\n",
    "parks_8k = pd.read_table(\"inputs/parks_runinfo.csv\", sep=\",\", header=0, usecols=[\"Run\"])\n",
    "\n",
    "# Fix names so it's easier to query\n",
    "data['MAG'] = data['MAG'].str.replace(r\"'(?P<id>.*)'\", lambda m: m.group(\"id\"))\n",
    "data['metagenome'] = data['metagenome'].str.replace(r\".*/(?P<id>.*).sig.*\", lambda m: m.group(\"id\"))\n",
    "\n",
    "# Actually remove TARA and Parks\n",
    "to_keep = set(data['metagenome'].values).difference(set(tara_metag[\"Run\"].values))\n",
    "to_keep = to_keep.difference(set(parks_8k[\"Run\"].values))\n",
    "filtered = data[data['metagenome'].isin(to_keep)]\n",
    "print(filtered[filtered['containment'] > 0.5].sort_values(by=\"containment\"))\n",
    "\n",
    "# MAGs metadata\n",
    "taxonomy = pd.read_excel(\"inputs/tully_mag_taxonomy.xlsx\", header=1).set_index(\"Genome ID\")\n",
    "stats = pd.read_excel(\"inputs/tully_mag_stats.xlsx\", header=1).set_index(\"Genome ID\")\n",
    "\n",
    "print(\"unique SRA runs: \", len(filtered['metagenome'].unique()))"
   ]
  },
  {
   "cell_type": "code",
   "execution_count": 110,
   "metadata": {},
   "outputs": [
    {
     "data": {
      "text/plain": [
       "2291"
      ]
     },
     "execution_count": 110,
     "metadata": {},
     "output_type": "execute_result"
    }
   ],
   "source": [
    "len(filtered[\"MAG\"].unique())"
   ]
  },
  {
   "cell_type": "code",
   "execution_count": 111,
   "metadata": {},
   "outputs": [
    {
     "data": {
      "text/plain": [
       "1407"
      ]
     },
     "execution_count": 111,
     "metadata": {},
     "output_type": "execute_result"
    }
   ],
   "source": [
    "len(filtered[filtered['containment'] > 0.5][\"MAG\"].unique())"
   ]
  },
  {
   "cell_type": "markdown",
   "metadata": {},
   "source": [
    "## Picking a candidate: TOBG_NP-110, I choose you!"
   ]
  },
  {
   "cell_type": "code",
   "execution_count": 112,
   "metadata": {},
   "outputs": [
    {
     "data": {
      "text/plain": [
       "Domain                           Archaea\n",
       "Phylum                     Euryarchaeota\n",
       "Class                                NaN\n",
       "Order                                NaN\n",
       "Family                               NaN\n",
       "Genus                                NaN\n",
       "Species                              NaN\n",
       "Phylogeny source method           CheckM\n",
       "Name: TOBG_NP-110, dtype: object"
      ]
     },
     "execution_count": 112,
     "metadata": {},
     "output_type": "execute_result"
    }
   ],
   "source": [
    "taxonomy.loc['TOBG_NP-110']"
   ]
  },
  {
   "cell_type": "code",
   "execution_count": 113,
   "metadata": {},
   "outputs": [
    {
     "data": {
      "text/plain": [
       "Percent Complete                                                              70.27\n",
       "Percent Contamination                                                          0.96\n",
       "Strain Heterogeneity                                                             50\n",
       "%G+C                                                                          56.83\n",
       "No. of contigs                                                                   39\n",
       "Max. contig length (bp)                                                      149808\n",
       "N50 contig length (bp)                                                        44505\n",
       "Mean contig length (bp)                                                       31750\n",
       "Length (Mbp)                                                                   1.24\n",
       "Coding density                                                                95.23\n",
       "Data repository hosting the genome assembly reported in this study    NCBI Assembly\n",
       "GenBank Accession ID for newly reported draft genomes                  PCBY00000000\n",
       "Matches Delmont et al. (2017) genome                                           n.a.\n",
       "Matches Tully et al. (2017) genome                                             n.a.\n",
       "Name: TOBG_NP-110, dtype: object"
      ]
     },
     "execution_count": 113,
     "metadata": {},
     "output_type": "execute_result"
    }
   ],
   "source": [
    "stats.loc['TOBG_NP-110']"
   ]
  },
  {
   "cell_type": "code",
   "execution_count": 117,
   "metadata": {},
   "outputs": [
    {
     "data": {
      "text/html": [
       "<table border=\"1\" class=\"dataframe\">\n",
       "  <thead>\n",
       "    <tr style=\"text-align: right;\">\n",
       "      <th></th>\n",
       "      <th>MAG</th>\n",
       "      <th>metagenome</th>\n",
       "      <th>containment</th>\n",
       "    </tr>\n",
       "  </thead>\n",
       "  <tbody>\n",
       "    <tr>\n",
       "      <th>66684</th>\n",
       "      <td>TOBG_NP-110</td>\n",
       "      <td><a href='https://trace.ncbi.nlm.nih.gov/Traces/sra/?run=SRR5868540'>SRR5868540</a></td>\n",
       "      <td>0.914910</td>\n",
       "    </tr>\n",
       "    <tr>\n",
       "      <th>66794</th>\n",
       "      <td>TOBG_NP-110</td>\n",
       "      <td><a href='https://trace.ncbi.nlm.nih.gov/Traces/sra/?run=SRR5868539'>SRR5868539</a></td>\n",
       "      <td>0.993755</td>\n",
       "    </tr>\n",
       "    <tr>\n",
       "      <th>95736</th>\n",
       "      <td>TOBG_NP-110</td>\n",
       "      <td><a href='https://trace.ncbi.nlm.nih.gov/Traces/sra/?run=SRR304680'>SRR304680</a></td>\n",
       "      <td>0.640906</td>\n",
       "    </tr>\n",
       "    <tr>\n",
       "      <th>103789</th>\n",
       "      <td>TOBG_NP-110</td>\n",
       "      <td><a href='https://trace.ncbi.nlm.nih.gov/Traces/sra/?run=SRR1509799'>SRR1509799</a></td>\n",
       "      <td>0.892272</td>\n",
       "    </tr>\n",
       "    <tr>\n",
       "      <th>104497</th>\n",
       "      <td>TOBG_NP-110</td>\n",
       "      <td><a href='https://trace.ncbi.nlm.nih.gov/Traces/sra/?run=SRR1509798'>SRR1509798</a></td>\n",
       "      <td>0.984387</td>\n",
       "    </tr>\n",
       "    <tr>\n",
       "      <th>103893</th>\n",
       "      <td>TOBG_NP-110</td>\n",
       "      <td><a href='https://trace.ncbi.nlm.nih.gov/Traces/sra/?run=SRR1509794'>SRR1509794</a></td>\n",
       "      <td>0.555816</td>\n",
       "    </tr>\n",
       "    <tr>\n",
       "      <th>103648</th>\n",
       "      <td>TOBG_NP-110</td>\n",
       "      <td><a href='https://trace.ncbi.nlm.nih.gov/Traces/sra/?run=SRR1509793'>SRR1509793</a></td>\n",
       "      <td>0.787666</td>\n",
       "    </tr>\n",
       "    <tr>\n",
       "      <th>104606</th>\n",
       "      <td>TOBG_NP-110</td>\n",
       "      <td><a href='https://trace.ncbi.nlm.nih.gov/Traces/sra/?run=SRR1509792'>SRR1509792</a></td>\n",
       "      <td>0.965652</td>\n",
       "    </tr>\n",
       "    <tr>\n",
       "      <th>92955</th>\n",
       "      <td>TOBG_NP-110</td>\n",
       "      <td><a href='https://trace.ncbi.nlm.nih.gov/Traces/sra/?run=SRR070084'>SRR070084</a></td>\n",
       "      <td>0.576893</td>\n",
       "    </tr>\n",
       "    <tr>\n",
       "      <th>93029</th>\n",
       "      <td>TOBG_NP-110</td>\n",
       "      <td><a href='https://trace.ncbi.nlm.nih.gov/Traces/sra/?run=SRR070083'>SRR070083</a></td>\n",
       "      <td>0.790008</td>\n",
       "    </tr>\n",
       "    <tr>\n",
       "      <th>92887</th>\n",
       "      <td>TOBG_NP-110</td>\n",
       "      <td><a href='https://trace.ncbi.nlm.nih.gov/Traces/sra/?run=SRR070081'>SRR070081</a></td>\n",
       "      <td>0.850117</td>\n",
       "    </tr>\n",
       "    <tr>\n",
       "      <th>21645</th>\n",
       "      <td>TOBG_NP-110</td>\n",
       "      <td><a href='https://trace.ncbi.nlm.nih.gov/Traces/sra/?run=ERR3256923'>ERR3256923</a></td>\n",
       "      <td>0.805621</td>\n",
       "    </tr>\n",
       "  </tbody>\n",
       "</table>"
      ],
      "text/plain": [
       "<IPython.core.display.HTML object>"
      ]
     },
     "execution_count": 117,
     "metadata": {},
     "output_type": "execute_result"
    }
   ],
   "source": [
    "with_link = filtered.copy()\n",
    "with_link[\"metagenome\"] = filtered[\"metagenome\"].apply(\n",
    "    lambda x: \"<a href='https://trace.ncbi.nlm.nih.gov/Traces/sra/?run={}'>{}</a>\".format(x, x)\n",
    ")\n",
    "\n",
    "HTML(with_link[(filtered[\"MAG\"] == \"TOBG_NP-110\") & (filtered['containment'] > 0.5)]\n",
    "     .sort_values(by=\"metagenome\", ascending=False)\n",
    "     .to_html(render_links=True, escape=False,))"
   ]
  }
 ],
 "metadata": {
  "kernelspec": {
   "display_name": "Python 3",
   "language": "python",
   "name": "python3"
  },
  "language_info": {
   "codemirror_mode": {
    "name": "ipython",
    "version": 3
   },
   "file_extension": ".py",
   "mimetype": "text/x-python",
   "name": "python",
   "nbconvert_exporter": "python",
   "pygments_lexer": "ipython3",
   "version": "3.8.5"
  }
 },
 "nbformat": 4,
 "nbformat_minor": 4
}
